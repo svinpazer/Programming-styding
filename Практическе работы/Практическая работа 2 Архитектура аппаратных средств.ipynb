{
 "cells": [
  {
   "cell_type": "markdown",
   "id": "a7ce22f9-923d-4e4b-843f-5582cbbf82c7",
   "metadata": {},
   "source": [
    "# Практическая работа №2 - Выполнение операций над числами с плавающей и фиксированной точкой. Выполнение арифметических операций в прямом, обратном и дополнительном коде.\n",
    "\n",
    "**Цель практической работы:** Научиться переводить числа с плавающей и фиксированной точкой из одной системы счисления в другую, научиться производить операции с числами в различных системах счисления, научиться применять прямой, обратный и дополинтельный код при решении арифметических операций.\n",
    "\n",
    "**Ход работы:**\n",
    "1. Ознакомиться с заданиями\n",
    "2. Разработать программы на Python 3 для решения заданий\n",
    "3. Протестировать и отладить программы\n",
    "4. Решить задания с помошью созданных программ\n",
    "5. Заполнить отчет\n",
    "\n",
    "**Требования к программе:**\n",
    "1. Точность вывода - 4 знака после запятой\n",
    "\n",
    "\n",
    "**Работу выполнил:**"
   ]
  },
  {
   "cell_type": "markdown",
   "id": "d5fcfde6-f8ce-44c9-94a1-0dc5472a0195",
   "metadata": {},
   "source": [
    "ФИО студента"
   ]
  },
  {
   "cell_type": "markdown",
   "id": "8459eb1e-6a18-4ba2-b2e2-d27f4a1826b2",
   "metadata": {},
   "source": [
    "# Задание 1 - Перевод чисел из одной системы счисления в другую"
   ]
  },
  {
   "cell_type": "markdown",
   "id": "2113c032-2d48-4e99-a01c-81da77f2a394",
   "metadata": {},
   "source": [
    "№1 $$10.5_{10}\\rightarrow x_2$$"
   ]
  },
  {
   "cell_type": "code",
   "execution_count": null,
   "id": "8c76791b-8a76-42ab-a31e-b25da949d50e",
   "metadata": {},
   "outputs": [],
   "source": [
    "1010.1 (поделил с остатком и перевел в дробную часть)"
   ]
  },
  {
   "cell_type": "markdown",
   "id": "1d54d78c-ba89-4939-8047-47033ad077f0",
   "metadata": {},
   "source": [
    "№2 $$1001.10_2\\rightarrow x_{10}$$"
   ]
  },
  {
   "cell_type": "code",
   "execution_count": null,
   "id": "d9d9c4bf-f39d-4500-80c8-d09b6d86550d",
   "metadata": {},
   "outputs": [],
   "source": [
    "9.5 (перевел в десятичную систему и потом умножил и еще перевел в дробную часть)"
   ]
  },
  {
   "cell_type": "markdown",
   "id": "afee2a4d-dbd9-4848-80dd-9992aee67f5d",
   "metadata": {},
   "source": [
    "№3 $$16.5_8\\rightarrow x_{10}$$"
   ]
  },
  {
   "cell_type": "code",
   "execution_count": null,
   "id": "72ec536e-1e42-4867-a8a6-5b0b2221b48b",
   "metadata": {},
   "outputs": [],
   "source": [
    "14.625 (перевел в десятичную и потом перевел вдробную)"
   ]
  },
  {
   "cell_type": "markdown",
   "id": "76cf5d0d-34cf-4b61-9f6b-1136f78a4b18",
   "metadata": {},
   "source": [
    "№4 $$45.5_{10}\\rightarrow x_{8}$$"
   ]
  },
  {
   "cell_type": "code",
   "execution_count": null,
   "id": "00d8d2be-c8c8-4cbf-b89e-e3a1901aa5ff",
   "metadata": {},
   "outputs": [],
   "source": [
    "55.4 (подили с остатком, перевел дробную часть)"
   ]
  },
  {
   "cell_type": "markdown",
   "id": "2e7ddfd8-5725-4e13-8167-3a5c56bab90c",
   "metadata": {},
   "source": [
    "№5 $$25.75_{10}\\rightarrow x_{16}$$"
   ]
  },
  {
   "cell_type": "code",
   "execution_count": null,
   "id": "386caf1c-5f9b-4359-869d-cbc32046f71e",
   "metadata": {},
   "outputs": [],
   "source": [
    "19.C (разделил на 16 и потом перевел целую часть и еще дробную)"
   ]
  },
  {
   "cell_type": "markdown",
   "id": "cfc7a76d-a000-40cd-9864-563d6f99c09e",
   "metadata": {},
   "source": [
    "№6 $$ACC_{16}\\rightarrow x_{10}$$"
   ]
  },
  {
   "cell_type": "code",
   "execution_count": null,
   "id": "322293a8-c2ca-4d9c-beff-86af324eb562",
   "metadata": {},
   "outputs": [],
   "source": [
    "2764 (перевел целую часть)"
   ]
  },
  {
   "cell_type": "markdown",
   "id": "6a4fb2b3-e65c-4fb3-9e01-52d9c5c555ea",
   "metadata": {},
   "source": [
    "№7 $$1011.11_2\\rightarrow x_{16}$$"
   ]
  },
  {
   "cell_type": "code",
   "execution_count": null,
   "id": "edc0b0c0-25dd-45d6-9c33-9c7aefe2fdb4",
   "metadata": {},
   "outputs": [],
   "source": [
    "B.C (перевел в десятичну, перевел целую часть, перевел в 16ричную, перевел еще одну целую часть,собрал остатки перевел дробную часть)"
   ]
  },
  {
   "cell_type": "markdown",
   "id": "d726e435-e248-4e2d-8e2e-8b620ea2f3b9",
   "metadata": {},
   "source": [
    "№8 $$1001.01_2\\rightarrow x_{8}$$"
   ]
  },
  {
   "cell_type": "code",
   "execution_count": null,
   "id": "2b001d4d-f046-4cab-a7f1-4dd9bd330097",
   "metadata": {},
   "outputs": [],
   "source": [
    "11.2"
   ]
  },
  {
   "cell_type": "markdown",
   "id": "2d8efd90-c33b-418d-bc43-b74cf52b63e1",
   "metadata": {},
   "source": [
    "№9 $$17.5_8\\rightarrow x_{16}$$"
   ]
  },
  {
   "cell_type": "code",
   "execution_count": null,
   "id": "c450df3e-39fd-4f1a-91c6-a6812fb916f8",
   "metadata": {},
   "outputs": [],
   "source": [
    "F.A"
   ]
  },
  {
   "cell_type": "markdown",
   "id": "0b2f89d5-0c6f-4759-af33-d9ed8db07c72",
   "metadata": {},
   "source": [
    "№10 $$23.45_8\\rightarrow x_{2}$$"
   ]
  },
  {
   "cell_type": "code",
   "execution_count": null,
   "id": "108b2cb3-6027-4371-af57-580c443e1d78",
   "metadata": {},
   "outputs": [],
   "source": [
    "10011.100101"
   ]
  },
  {
   "cell_type": "markdown",
   "id": "660959b3-1921-46d6-b767-611df8678bcb",
   "metadata": {},
   "source": [
    "## Задание 2 - Выполнение арифметических действий в различных системах счисления"
   ]
  },
  {
   "cell_type": "markdown",
   "id": "81d469ff-ef5c-4886-adc4-5712f3e63c59",
   "metadata": {},
   "source": [
    "№11 $$1011.10_2 + 1001.01_2 = x_2$$"
   ]
  },
  {
   "cell_type": "code",
   "execution_count": null,
   "id": "be9e1daa-862d-4453-a795-a35eab56b17e",
   "metadata": {},
   "outputs": [],
   "source": [
    "10100.11"
   ]
  },
  {
   "cell_type": "markdown",
   "id": "882713be-7657-4d5c-bd26-88542a9eebfa",
   "metadata": {},
   "source": [
    "№12 $$45.5_8 - 27.25_8 = x_8$$"
   ]
  },
  {
   "cell_type": "code",
   "execution_count": null,
   "id": "96fcf654-bec9-4eaa-88d0-d83d3e7b948f",
   "metadata": {},
   "outputs": [],
   "source": [
    "16.23"
   ]
  },
  {
   "cell_type": "markdown",
   "id": "213927ff-4c8d-403b-b07e-3638a17656b6",
   "metadata": {},
   "source": [
    "№13 $$82.35_{10} * 15.6_{20} = x_{10}$$"
   ]
  },
  {
   "cell_type": "code",
   "execution_count": null,
   "id": "becdddcc-d8b3-4118-861c-d8997371fc0c",
   "metadata": {},
   "outputs": [],
   "source": [
    "2083.455"
   ]
  },
  {
   "cell_type": "markdown",
   "id": "8def0118-4592-47d5-a7d3-e1636dc0f3ad",
   "metadata": {},
   "source": [
    "№14 $$A4.5_{16} : 1.C_{16} = x_{16}$$"
   ]
  },
  {
   "cell_type": "code",
   "execution_count": null,
   "id": "8e2c62e9-7465-4337-b172-ef389c23a89a",
   "metadata": {},
   "outputs": [],
   "source": [
    "5D.E49"
   ]
  },
  {
   "cell_type": "markdown",
   "id": "a15637b6-a9cd-4ff7-a3a7-18b834acd296",
   "metadata": {},
   "source": [
    "№15 $$10110.101_2 + 32.4_8 = x_2$$"
   ]
  },
  {
   "cell_type": "code",
   "execution_count": null,
   "id": "77e23396-afd4-4208-87fd-06b4df3841c2",
   "metadata": {},
   "outputs": [],
   "source": [
    "11001.001"
   ]
  },
  {
   "cell_type": "markdown",
   "id": "de58424e-1f62-4069-9e05-3d3b93947500",
   "metadata": {},
   "source": [
    "№16 $$43.15_{14} * B25.5_{18} = x_{10}$$"
   ]
  },
  {
   "cell_type": "code",
   "execution_count": null,
   "id": "9cc7f9d4-4b0b-4d61-87a4-ee0c7c2562ca",
   "metadata": {},
   "outputs": [],
   "source": []
  },
  {
   "cell_type": "markdown",
   "id": "afe6ffc5-e815-4038-92da-44ed46d078b9",
   "metadata": {},
   "source": [
    "№17 $$25.8_{10} - F.1_{16} = x_{16}$$"
   ]
  },
  {
   "cell_type": "code",
   "execution_count": null,
   "id": "12d78f0e-bf86-45a9-93e5-66cf58b782e1",
   "metadata": {},
   "outputs": [],
   "source": [
    "A.B"
   ]
  },
  {
   "cell_type": "markdown",
   "id": "24d5d0bb-1afb-4bec-8979-009ca7fd2767",
   "metadata": {},
   "source": [
    "№18 $$22.12_3 + 45.1_{16} = x_{10}$$"
   ]
  },
  {
   "cell_type": "code",
   "execution_count": null,
   "id": "1d8ae9b2-7494-4979-ba22-fb9022ae52ff",
   "metadata": {},
   "outputs": [],
   "source": []
  },
  {
   "cell_type": "markdown",
   "id": "9c0e64d2-4d10-4545-80dc-d8aa9dce6451",
   "metadata": {},
   "source": [
    "№19 $$11011.01_2 : A57.5_{12} = x_8$$"
   ]
  },
  {
   "cell_type": "code",
   "execution_count": null,
   "id": "b4547895-8b89-4c70-89fb-02a82f914a89",
   "metadata": {},
   "outputs": [],
   "source": [
    "2710.125"
   ]
  },
  {
   "cell_type": "markdown",
   "id": "8ac55fb7-cc08-4c16-afdd-2fe9c4854109",
   "metadata": {},
   "source": [
    "№20 $$0.25_{10} : 0.75_{10} = x_2$$"
   ]
  },
  {
   "cell_type": "code",
   "execution_count": null,
   "id": "768e4b4d-c230-4481-a010-a7d48e527751",
   "metadata": {},
   "outputs": [],
   "source": [
    "0.01010101010101010101010101010101010101010101010101"
   ]
  },
  {
   "cell_type": "markdown",
   "id": "7082f5de-bbf0-40fe-abc8-06b047787c8a",
   "metadata": {},
   "source": [
    "## Задание 3 - Найти прямой, обратный и дополнительный код числа"
   ]
  },
  {
   "cell_type": "markdown",
   "id": "e57e0ecf-913e-4f92-8e5c-3ab808901aed",
   "metadata": {},
   "source": [
    "№21 $$-20_{10}$$"
   ]
  },
  {
   "cell_type": "code",
   "execution_count": null,
   "id": "60ec1a25-f626-4520-b9d8-498384630019",
   "metadata": {},
   "outputs": [],
   "source": []
  },
  {
   "cell_type": "markdown",
   "id": "7a23eed2-34d7-4d22-b68c-f16399ee8498",
   "metadata": {},
   "source": [
    "№22 $$15_{10}$$"
   ]
  },
  {
   "cell_type": "code",
   "execution_count": null,
   "id": "5f6f9be2-7cea-4073-804a-b2e46de89bcf",
   "metadata": {},
   "outputs": [],
   "source": []
  },
  {
   "cell_type": "markdown",
   "id": "72335eac-be6e-454e-905f-99a83ff9e342",
   "metadata": {},
   "source": [
    "№23 $$-1023_{10}$$"
   ]
  },
  {
   "cell_type": "code",
   "execution_count": null,
   "id": "7a4b430d-753b-4d14-b322-a7bbdfa3939a",
   "metadata": {},
   "outputs": [],
   "source": []
  },
  {
   "cell_type": "markdown",
   "id": "fb722b1f-2479-4209-ba22-6a0344334478",
   "metadata": {},
   "source": [
    "№24 $$80.5_{10}$$"
   ]
  },
  {
   "cell_type": "code",
   "execution_count": null,
   "id": "29fcffd8-b902-4a4f-a3c6-f8052c3ee5dd",
   "metadata": {},
   "outputs": [],
   "source": []
  },
  {
   "cell_type": "markdown",
   "id": "adcad4ec-f639-478c-9475-980545fcc0a5",
   "metadata": {},
   "source": [
    "№25 $$-218.79_{10}$$"
   ]
  },
  {
   "cell_type": "code",
   "execution_count": null,
   "id": "02190e46-7196-4225-a5b7-5593233919c2",
   "metadata": {},
   "outputs": [],
   "source": []
  },
  {
   "cell_type": "markdown",
   "id": "d84851d6-12ec-4108-8c4c-d768e4783d01",
   "metadata": {},
   "source": [
    "## Задание 4 - Выполнить арифметические действия с помошью прямого, обратного и дополнительного кода"
   ]
  },
  {
   "cell_type": "markdown",
   "id": "9bc8226c-6aec-4b09-8fa7-abc6dad24b89",
   "metadata": {},
   "source": [
    "№26 $$100_{10} - 25_{10} = x_{10}$$"
   ]
  },
  {
   "cell_type": "code",
   "execution_count": null,
   "id": "df4220fd-2b41-4c91-aa78-4c1a00bbbea3",
   "metadata": {},
   "outputs": [],
   "source": []
  },
  {
   "cell_type": "markdown",
   "id": "9c0070db-045a-433e-9532-f3c854966757",
   "metadata": {},
   "source": [
    "№27 $$5_{10} - 10_{10} = x_{10}$$"
   ]
  },
  {
   "cell_type": "code",
   "execution_count": null,
   "id": "67ad1ab3-115f-4900-a9b9-8a8ef1121548",
   "metadata": {},
   "outputs": [],
   "source": []
  },
  {
   "cell_type": "markdown",
   "id": "232bb97d-0ce0-4fff-affb-d553234d3413",
   "metadata": {},
   "source": [
    "№28 $$-10_{10} + 5_{10} = x_{10}$$"
   ]
  },
  {
   "cell_type": "code",
   "execution_count": null,
   "id": "7a1d2911-4089-4cbd-bbf3-f42ed25b8bbc",
   "metadata": {},
   "outputs": [],
   "source": []
  },
  {
   "cell_type": "markdown",
   "id": "2787ccc4-a30a-44ac-874e-0c483dbc7fae",
   "metadata": {},
   "source": [
    "№29 $$-20_{10} - 55_{10} = x_{10}$$"
   ]
  },
  {
   "cell_type": "code",
   "execution_count": null,
   "id": "b10fdb07-46ca-43a1-beeb-ff24310ac752",
   "metadata": {},
   "outputs": [],
   "source": []
  },
  {
   "cell_type": "markdown",
   "id": "7719799f-1d8c-4065-ba36-09f6f38e1749",
   "metadata": {},
   "source": [
    "№30 $$78_{10} - 56_{10} = x_{10}$$"
   ]
  },
  {
   "cell_type": "code",
   "execution_count": null,
   "id": "d1de6735-9f12-4926-aa05-17969b7ea483",
   "metadata": {},
   "outputs": [],
   "source": []
  },
  {
   "cell_type": "markdown",
   "id": "ec443828-abad-49e9-909c-a4cd1fb562c9",
   "metadata": {},
   "source": [
    "## Вывод"
   ]
  },
  {
   "cell_type": "markdown",
   "id": "10aaef74-7ef5-4bf9-a0bf-21cbf3dd7862",
   "metadata": {},
   "source": []
  }
 ],
 "metadata": {
  "kernelspec": {
   "display_name": "Python 3 (ipykernel)",
   "language": "python",
   "name": "python3"
  },
  "language_info": {
   "codemirror_mode": {
    "name": "ipython",
    "version": 3
   },
   "file_extension": ".py",
   "mimetype": "text/x-python",
   "name": "python",
   "nbconvert_exporter": "python",
   "pygments_lexer": "ipython3",
   "version": "3.10.8"
  }
 },
 "nbformat": 4,
 "nbformat_minor": 5
}
