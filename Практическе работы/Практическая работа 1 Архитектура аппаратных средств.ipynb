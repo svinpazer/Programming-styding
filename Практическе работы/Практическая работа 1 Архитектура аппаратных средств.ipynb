{
 "cells": [
  {
   "cell_type": "markdown",
   "id": "a7ce22f9-923d-4e4b-843f-5582cbbf82c7",
   "metadata": {},
   "source": [
    "# Практическое занятие №1 - Выполнение перевода чисел из одной системы счисления в другую. Выполнение арифметических операций в двоичной системе счисления.\n",
    "\n",
    "**Цель практической работы:** Изучить основные принципы перевода чисел из одной системы счисления в другую и освоить выполнение основных арифметических операций в двоично системе счисления.\n",
    "\n",
    "**Ход работы:**\n",
    "1. Ознакомиться с заданиями\n",
    "2. Ознакомиться с конспектом или другими теоретическими материалами\n",
    "4. Решить задания \n",
    "5. Заполнить отчет\n",
    "\n",
    "**Основные требования:**\n",
    "1. Сокращать до 4 знаков после запятой при необходимости\n",
    "\n",
    "\n",
    "**Работу выполнил:**"
   ]
  },
  {
   "cell_type": "markdown",
   "id": "d5fcfde6-f8ce-44c9-94a1-0dc5472a0195",
   "metadata": {},
   "source": [
    "ФИО студента"
   ]
  },
  {
   "cell_type": "markdown",
   "id": "8459eb1e-6a18-4ba2-b2e2-d27f4a1826b2",
   "metadata": {},
   "source": [
    "## Задание 1 - Перевод чисел из одной системы счисления в другую"
   ]
  },
  {
   "cell_type": "markdown",
   "id": "2113c032-2d48-4e99-a01c-81da77f2a394",
   "metadata": {},
   "source": [
    "№1 $$101101_{2}\\rightarrow x_{10}$$"
   ]
  },
  {
   "cell_type": "code",
   "execution_count": null,
   "id": "d7ea4f98",
   "metadata": {},
   "outputs": [],
   "source": [
    "45 "
   ]
  },
  {
   "cell_type": "markdown",
   "id": "1d54d78c-ba89-4939-8047-47033ad077f0",
   "metadata": {},
   "source": [
    "№2 $$101110_{2}\\rightarrow x_{8}$$"
   ]
  },
  {
   "cell_type": "code",
   "execution_count": null,
   "id": "d9d9c4bf-f39d-4500-80c8-d09b6d86550d",
   "metadata": {},
   "outputs": [],
   "source": [
    "56"
   ]
  },
  {
   "cell_type": "markdown",
   "id": "afee2a4d-dbd9-4848-80dd-9992aee67f5d",
   "metadata": {},
   "source": [
    "№3 $$110011_2\\rightarrow x_{16}$$"
   ]
  },
  {
   "cell_type": "code",
   "execution_count": null,
   "id": "72ec536e-1e42-4867-a8a6-5b0b2221b48b",
   "metadata": {},
   "outputs": [],
   "source": [
    "33"
   ]
  },
  {
   "cell_type": "markdown",
   "id": "76cf5d0d-34cf-4b61-9f6b-1136f78a4b18",
   "metadata": {},
   "source": [
    "№4 $$75_{8}\\rightarrow x_{2}$$"
   ]
  },
  {
   "cell_type": "code",
   "execution_count": null,
   "id": "00d8d2be-c8c8-4cbf-b89e-e3a1901aa5ff",
   "metadata": {},
   "outputs": [],
   "source": [
    "111101 (61/2 до конца и потом перевернуть решение)"
   ]
  },
  {
   "cell_type": "markdown",
   "id": "2e7ddfd8-5725-4e13-8167-3a5c56bab90c",
   "metadata": {},
   "source": [
    "№5 $$63_{8}\\rightarrow x_{10}$$"
   ]
  },
  {
   "cell_type": "code",
   "execution_count": null,
   "id": "386caf1c-5f9b-4359-869d-cbc32046f71e",
   "metadata": {},
   "outputs": [],
   "source": [
    "51"
   ]
  },
  {
   "cell_type": "markdown",
   "id": "cfc7a76d-a000-40cd-9864-563d6f99c09e",
   "metadata": {},
   "source": [
    "№6 $$17_{8}\\rightarrow x_{16}$$"
   ]
  },
  {
   "cell_type": "code",
   "execution_count": null,
   "id": "322293a8-c2ca-4d9c-beff-86af324eb562",
   "metadata": {},
   "outputs": [],
   "source": [
    "F"
   ]
  },
  {
   "cell_type": "markdown",
   "id": "d726e435-e248-4e2d-8e2e-8b620ea2f3b9",
   "metadata": {},
   "source": [
    "№7 $$183_{10}\\rightarrow x_{16}$$"
   ]
  },
  {
   "cell_type": "code",
   "execution_count": null,
   "id": "2b001d4d-f046-4cab-a7f1-4dd9bd330097",
   "metadata": {},
   "outputs": [],
   "source": [
    "B7"
   ]
  },
  {
   "cell_type": "markdown",
   "id": "2d8efd90-c33b-418d-bc43-b74cf52b63e1",
   "metadata": {},
   "source": [
    "№8 $$64_{10}\\rightarrow x_{8}$$"
   ]
  },
  {
   "cell_type": "code",
   "execution_count": null,
   "id": "c450df3e-39fd-4f1a-91c6-a6812fb916f8",
   "metadata": {},
   "outputs": [],
   "source": [
    "100"
   ]
  },
  {
   "cell_type": "markdown",
   "id": "0b2f89d5-0c6f-4759-af33-d9ed8db07c72",
   "metadata": {},
   "source": [
    "№9 $$1F_{16}\\rightarrow x_{2}$$"
   ]
  },
  {
   "cell_type": "code",
   "execution_count": null,
   "id": "108b2cb3-6027-4371-af57-580c443e1d78",
   "metadata": {},
   "outputs": [],
   "source": [
    "11111"
   ]
  },
  {
   "cell_type": "markdown",
   "id": "81d469ff-ef5c-4886-adc4-5712f3e63c59",
   "metadata": {},
   "source": [
    "№10 $$53_{16} \\rightarrow x_{8}$$"
   ]
  },
  {
   "cell_type": "code",
   "execution_count": null,
   "id": "be9e1daa-862d-4453-a795-a35eab56b17e",
   "metadata": {},
   "outputs": [],
   "source": [
    "123"
   ]
  },
  {
   "cell_type": "markdown",
   "id": "660959b3-1921-46d6-b767-611df8678bcb",
   "metadata": {},
   "source": [
    "## Задание 2 - Выполнение арифметических действий в различных системах счисления"
   ]
  },
  {
   "cell_type": "markdown",
   "id": "213927ff-4c8d-403b-b07e-3638a17656b6",
   "metadata": {},
   "source": [
    "№11 $$1101_{2} * 1010_{2} = x_{2}$$"
   ]
  },
  {
   "cell_type": "code",
   "execution_count": null,
   "id": "becdddcc-d8b3-4118-861c-d8997371fc0c",
   "metadata": {},
   "outputs": [],
   "source": [
    "1000010 (просто умножил)"
   ]
  },
  {
   "cell_type": "markdown",
   "id": "de58424e-1f62-4069-9e05-3d3b93947500",
   "metadata": {},
   "source": [
    "№12 $$1010_{2} : 10_{2} = x_{2}$$"
   ]
  },
  {
   "cell_type": "code",
   "execution_count": null,
   "id": "9cc7f9d4-4b0b-4d61-87a4-ee0c7c2562ca",
   "metadata": {},
   "outputs": [],
   "source": [
    "101 (просто разделил)"
   ]
  },
  {
   "cell_type": "markdown",
   "id": "afe6ffc5-e815-4038-92da-44ed46d078b9",
   "metadata": {},
   "source": [
    "№13 $$1110_{}2 + 1011_{2} = x_{2}$$"
   ]
  },
  {
   "cell_type": "code",
   "execution_count": null,
   "id": "12d78f0e-bf86-45a9-93e5-66cf58b782e1",
   "metadata": {},
   "outputs": [],
   "source": [
    "11001 (1+1=1 в остаток 0 остается, а если 0+1=1 просто вниз опустится)"
   ]
  },
  {
   "cell_type": "markdown",
   "id": "24d5d0bb-1afb-4bec-8979-009ca7fd2767",
   "metadata": {},
   "source": [
    "№14 $$1110_2 - 1001_{2} = x_{2}$$"
   ]
  },
  {
   "cell_type": "code",
   "execution_count": null,
   "id": "1d8ae9b2-7494-4979-ba22-fb9022ae52ff",
   "metadata": {},
   "outputs": [],
   "source": [
    "101 (1-1=0 а если 1-0=1, как обычное вычесление)"
   ]
  },
  {
   "cell_type": "markdown",
   "id": "ec443828-abad-49e9-909c-a4cd1fb562c9",
   "metadata": {},
   "source": [
    "## Вывод"
   ]
  },
  {
   "cell_type": "markdown",
   "id": "10aaef74-7ef5-4bf9-a0bf-21cbf3dd7862",
   "metadata": {},
   "source": []
  }
 ],
 "metadata": {
  "kernelspec": {
   "display_name": "Python 3 (ipykernel)",
   "language": "python",
   "name": "python3"
  },
  "language_info": {
   "codemirror_mode": {
    "name": "ipython",
    "version": 3
   },
   "file_extension": ".py",
   "mimetype": "text/x-python",
   "name": "python",
   "nbconvert_exporter": "python",
   "pygments_lexer": "ipython3",
   "version": "3.10.8"
  }
 },
 "nbformat": 4,
 "nbformat_minor": 5
}
